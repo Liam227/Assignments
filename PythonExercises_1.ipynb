{
  "nbformat": 4,
  "nbformat_minor": 0,
  "metadata": {
    "colab": {
      "provenance": [],
      "authorship_tag": "ABX9TyO6yu5PNzuhwHrcvItgi3rn",
      "include_colab_link": true
    },
    "kernelspec": {
      "name": "python3",
      "display_name": "Python 3"
    },
    "language_info": {
      "name": "python"
    }
  },
  "cells": [
    {
      "cell_type": "markdown",
      "metadata": {
        "id": "view-in-github",
        "colab_type": "text"
      },
      "source": [
        "<a href=\"https://colab.research.google.com/github/Liam227/PythonExercises_1/blob/main/PythonExercises_1.ipynb\" target=\"_parent\"><img src=\"https://colab.research.google.com/assets/colab-badge.svg\" alt=\"Open In Colab\"/></a>"
      ]
    },
    {
      "cell_type": "markdown",
      "source": [
        "**Student Name:** *LIAM JESUS RODRIGUEZ GARCIA*\n",
        "\n",
        "**Student ID:** *1954090*\n",
        "\n",
        "**Class Day:** *Tuesdays*\n",
        "\n",
        "**Hour:** *N3-N5*"
      ],
      "metadata": {
        "id": "S3Y6rqRf7jrt"
      }
    },
    {
      "cell_type": "markdown",
      "source": [
        "**Exercise 1**\n",
        "\n",
        "**Text Analysis Tool:** Create a Python program that reads a text file and performs various analyses on its content. The program should: Count the number of words, sentences, and paragraphs. Calculate the average word length. Identify the most common words and their frequencies.\n",
        "\n",
        "\n"
      ],
      "metadata": {
        "id": "0-Sdzx6lRWm-"
      }
    },
    {
      "cell_type": "code",
      "execution_count": 11,
      "metadata": {
        "colab": {
          "base_uri": "https://localhost:8080/"
        },
        "id": "8ttmLddpL9Pi",
        "outputId": "3dd85dc1-2d5f-467a-be31-b45df3b03677"
      },
      "outputs": [
        {
          "output_type": "stream",
          "name": "stdout",
          "text": [
            "Introduce the text you want to analize\n",
            "yo te quiero \n",
            "\n",
            "The number of words are: 3\n",
            "\n",
            "The number of phrases are: 1\n",
            "\n",
            "The number of paragraphs are: 1\n",
            "\n",
            "F R E C U E N C Y   O F   E A C H   W O R D\n",
            "\n",
            "'yo': 1\n",
            "'te': 1\n",
            "'quiero': 1\n"
          ]
        }
      ],
      "source": [
        "import re\n",
        "\n",
        "text = input(\"Introduce the text you want to analize\\n\")\n",
        "\n",
        "words = text.split()\n",
        "n_words = len(words)\n",
        "\n",
        "phrases = re.split(r'[.!?]', text)\n",
        "n_phrases = len(phrases)\n",
        "\n",
        "paragraphs = re.split(r'\\n', text)\n",
        "n_paragraphs = len(paragraphs)\n",
        "\n",
        "rwords = text.split()\n",
        "u_words = set(rwords)\n",
        "f_words = {}\n",
        "for word in u_words:\n",
        "  frec = rwords.count(word)\n",
        "  f_words[word] = frec\n",
        "\n",
        "print(f\"\\nThe number of words are: {n_words}\\n\")\n",
        "print(f\"The number of phrases are: {n_phrases}\\n\")\n",
        "print(f\"The number of paragraphs are: {n_paragraphs}\\n\")\n",
        "print(f\"F R E C U E N C Y   O F   E A C H   W O R D\\n\")\n",
        "for word, frec in f_words.items():\n",
        "   print(f\"'{word}': {frec}\")"
      ]
    },
    {
      "cell_type": "markdown",
      "source": [
        "**Exercise 2**\n",
        "\n",
        "**Hangman Game:** Create a Python program that allows a user to play the game of Hangman. The program should randomly select a word from a predefined list, and the player must guess letters one at a time until they guess the word correctly or run out of attempts."
      ],
      "metadata": {
        "id": "i0kvVcJKSXXH"
      }
    },
    {
      "cell_type": "code",
      "source": [
        "import random\n",
        "\n",
        "dictionary = [\"apple\", \"banana\", \"cat\", \"dog\", \"elephant\", \"fox\", \"grape\", \"hat\", \"icecream\", \"jellyfish\", \"kangaroo\", \"lion\", \"monkey\", \"newt\", \"orange\", \"penguin\", \"quokka\", \"rabbit\", \"snake\", \"tiger\", \"umbrella\", \"violin\", \"whale\", \"xylophone\", \"yak\", \"zebra\"]\n",
        "\n",
        "rndm_w = random.choice(dictionary)\n",
        "\n",
        "spaces = [\"_\"] * len(rndm_w)\n",
        "\n",
        "attempts = 0\n",
        "max_attms = 7\n",
        "max_a = 6\n",
        "while True:\n",
        "    if attempts >= max_attms:\n",
        "        print(f\"You are out of attempts, you died X_X, the answer is: {rndm_w}\")\n",
        "        break\n",
        "\n",
        "    print(\"Progress:\", \" \".join(spaces))\n",
        "\n",
        "    letter = input(\"Type a letter: \").lower()\n",
        "\n",
        "    if letter in rndm_w:\n",
        "        print(\"You are closser to the salvation.\")\n",
        "        for i in range(len(rndm_w)):\n",
        "            if rndm_w[i] == letter:\n",
        "                spaces[i] = letter\n",
        "    else:\n",
        "        print(f\"Wrong letter, you have {max_a} more attempts.\")\n",
        "        attempts += 1\n",
        "        max_a -=1\n",
        "\n",
        "    if \"\".join(spaces) == rndm_w:\n",
        "        print(f\"Congratulations!, you are safe and sound... A = {rndm_w}\")\n",
        "        break\n",
        "\n",
        "\n",
        "\n",
        "\n",
        "\n",
        "\n",
        "\n"
      ],
      "metadata": {
        "colab": {
          "base_uri": "https://localhost:8080/"
        },
        "id": "mRea3bc8TY-J",
        "outputId": "c30c4c2b-2bbc-436a-d12a-36c8e1bec915"
      },
      "execution_count": 22,
      "outputs": [
        {
          "output_type": "stream",
          "name": "stdout",
          "text": [
            "Progress: _ _ _ _ _\n",
            "Type a letter: lol \n",
            "Wrong letter, you have 6 more attempts.\n",
            "Progress: _ _ _ _ _\n",
            "Type a letter: l\n",
            "You are closser to the salvation.\n",
            "Progress: _ _ _ l _\n",
            "Type a letter: s\n",
            "Wrong letter, you have 5 more attempts.\n",
            "Progress: _ _ _ l _\n",
            "Type a letter: m\n",
            "Wrong letter, you have 4 more attempts.\n",
            "Progress: _ _ _ l _\n",
            "Type a letter: x\n",
            "Wrong letter, you have 3 more attempts.\n",
            "Progress: _ _ _ l _\n",
            "Type a letter: z\n",
            "Wrong letter, you have 2 more attempts.\n",
            "Progress: _ _ _ l _\n",
            "Type a letter: r\n",
            "Wrong letter, you have 1 more attempts.\n",
            "Progress: _ _ _ l _\n",
            "Type a letter: a\n",
            "You are closser to the salvation.\n",
            "Progress: _ _ a l _\n",
            "Type a letter: s\n",
            "Wrong letter, you have 0 more attempts.\n",
            "You are out of attempts, you died X_X, the answer is: whale\n"
          ]
        }
      ]
    },
    {
      "cell_type": "markdown",
      "source": [
        "**Exercise 3**\n",
        "\n",
        "**Number Guessing Game:** Create a program that generates a random number between 1 and 100, and then asks the user to guess the number. The program should provide hints to the user if the guessed number is greater or less than the target number, and keep asking for a new guess until the user guesses correctly."
      ],
      "metadata": {
        "id": "v3_77Qgr6U0u"
      }
    },
    {
      "cell_type": "code",
      "source": [
        "import random\n",
        "\n",
        "target_number = random.randint(1, 100)\n",
        "\n",
        "attempts = 0\n",
        "\n",
        "print(\"Welcome to the Number Guessing Game!\")\n",
        "\n",
        "while True:\n",
        "    user_guess = int(input(\"Guess the number between 1 and 100: \"))\n",
        "\n",
        "    attempts += 1\n",
        "\n",
        "    if user_guess == target_number:\n",
        "        print(f\"Congratulations! You guessed the number {target_number} correctly in {attempts} attempts.\")\n",
        "        break\n",
        "    elif user_guess < target_number:\n",
        "        print(\"The target number is higher. Try again.\")\n",
        "    else:\n",
        "        print(\"The target number is lower. Try again.\")\n"
      ],
      "metadata": {
        "colab": {
          "base_uri": "https://localhost:8080/"
        },
        "id": "tGgouuH06lar",
        "outputId": "0f527927-aed8-49b1-be0b-daba592f95f2"
      },
      "execution_count": 23,
      "outputs": [
        {
          "output_type": "stream",
          "name": "stdout",
          "text": [
            "Welcome to the Number Guessing Game!\n",
            "Guess the number between 1 and 100: 3\n",
            "The target number is higher. Try again.\n",
            "Guess the number between 1 and 100: 8\n",
            "The target number is higher. Try again.\n",
            "Guess the number between 1 and 100: 50\n",
            "The target number is lower. Try again.\n",
            "Guess the number between 1 and 100: 40\n",
            "The target number is lower. Try again.\n",
            "Guess the number between 1 and 100: 30\n",
            "The target number is lower. Try again.\n",
            "Guess the number between 1 and 100: 20\n",
            "The target number is lower. Try again.\n",
            "Guess the number between 1 and 100: 10\n",
            "The target number is lower. Try again.\n",
            "Guess the number between 1 and 100: 9\n",
            "Congratulations! You guessed the number 9 correctly in 8 attempts.\n"
          ]
        }
      ]
    }
  ]
}